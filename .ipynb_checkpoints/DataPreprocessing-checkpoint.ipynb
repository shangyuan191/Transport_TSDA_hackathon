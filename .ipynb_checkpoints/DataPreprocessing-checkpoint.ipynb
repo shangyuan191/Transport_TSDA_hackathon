{
 "cells": [
  {
   "cell_type": "code",
   "execution_count": 2,
   "id": "82ee5e12-6584-461d-a71f-bdd64e3bb385",
   "metadata": {},
   "outputs": [],
   "source": [
    "import pandas as pd"
   ]
  },
  {
   "cell_type": "code",
   "execution_count": 4,
   "id": "3ff42b03-56f4-49d4-b100-90c13f9c3c16",
   "metadata": {},
   "outputs": [
    {
     "name": "stdout",
     "output_type": "stream",
     "text": [
      "          年  月   日   時   分  國道名稱 方向    里程      事件發生  交控中心\\n接獲通報  ...  車輛4  \\\n",
      "0      2023  2   9  19  21  國道3號  南  54.0  19:21:00         NaN  ...  NaN   \n",
      "1      2023  2  10   3  36  國道1號  南   6.0  03:36:00         NaN  ...  NaN   \n",
      "2      2023  2  10   5  33  國道3號  南  76.0  05:33:00         NaN  ...  NaN   \n",
      "3      2023  2  10   7  35  國道3號  北  98.0  07:35:00         NaN  ...  NaN   \n",
      "4      2023  2  10   7  52  國道1號  北  23.0  07:52:00         NaN  ...  NaN   \n",
      "...     ... ..  ..  ..  ..   ... ..   ...       ...         ...  ...  ...   \n",
      "26734  2023  8   8   9  35  國道1號  南  23.0  09:35:00         NaN  ...  NaN   \n",
      "26735  2023  8   8   9  44  國道3號  南  34.0  09:44:00         NaN  ...  NaN   \n",
      "26736  2023  8   8   9  43  國道1號  北   6.0  09:43:00         NaN  ...  NaN   \n",
      "26737  2023  8   8   9  42  國道1號  南  39.4  09:42:00         NaN  ...  NaN   \n",
      "26738  2023  8   8   9  51  國道1號  北  23.3  09:51:00         NaN  ...  NaN   \n",
      "\n",
      "       車輛5  車輛6  車輛7  車輛8  車輛9 車輛10  車輛11 車輛12  分局  \n",
      "0      NaN  NaN  NaN  NaN  NaN  NaN   NaN  NaN   1  \n",
      "1      NaN  NaN  NaN  NaN  NaN  NaN   NaN  NaN   1  \n",
      "2      NaN  NaN  NaN  NaN  NaN  NaN   NaN  NaN   1  \n",
      "3      NaN  NaN  NaN  NaN  NaN  NaN   NaN  NaN   1  \n",
      "4      NaN  NaN  NaN  NaN  NaN  NaN   NaN  NaN   1  \n",
      "...    ...  ...  ...  ...  ...  ...   ...  ...  ..  \n",
      "26734  NaN  NaN  NaN  NaN  NaN  NaN   NaN  NaN   1  \n",
      "26735  NaN  NaN  NaN  NaN  NaN  NaN   NaN  NaN   1  \n",
      "26736  NaN  NaN  NaN  NaN  NaN  NaN   NaN  NaN   1  \n",
      "26737  NaN  NaN  NaN  NaN  NaN  NaN   NaN  NaN   1  \n",
      "26738  NaN  NaN  NaN  NaN  NaN  NaN   NaN  NaN   1  \n",
      "\n",
      "[26739 rows x 50 columns]\n",
      "              incStepIncidentId incStepNum          incStepTime  \\\n",
      "0                          事件編號       事件階段               階段開始時間   \n",
      "1       20230101074552939200021          1  2023-01-01 07:45:00   \n",
      "2       20230101082125894300045          1  2023-01-01 08:21:00   \n",
      "3       20230101084859011100021          1  2023-01-01 08:48:00   \n",
      "4       20230101084911770100021          1  2023-01-01 08:49:00   \n",
      "...                         ...        ...                  ...   \n",
      "172217  20231031234150861100021          1  2023-10-31 23:41:00   \n",
      "172218  20231031234220062400021          1  2023-10-31 23:42:00   \n",
      "172219  20231031234402822100021          1  2023-10-31 23:44:00   \n",
      "172220  20231031234443502100021          1  2023-10-31 23:44:00   \n",
      "172221  20231031235828139400021          1  2023-10-31 23:58:00   \n",
      "\n",
      "             incStepEndTime incStepFreewayId incStepDirection  \\\n",
      "0                    階段結束時間               路線               方向   \n",
      "1       2023-01-01 16:06:00            10050                1   \n",
      "2       2023-01-01 08:25:00            10040                3   \n",
      "3       2023-01-01 16:41:00            10030                1   \n",
      "4       2023-01-01 16:41:00            10030                2   \n",
      "...                     ...              ...              ...   \n",
      "172217  2023-11-01 01:24:00            10030                2   \n",
      "172218  2023-11-01 00:24:00            10010                1   \n",
      "172219  2023-11-01 03:02:00            10030                1   \n",
      "172220  2023-11-01 02:06:00            10010                1   \n",
      "172221  2023-11-01 02:11:00            10010                1   \n",
      "\n",
      "       incStepStartMileage incStepEndMileage incStepBlockagePattern  \n",
      "0                     起始里程              終止里程                   占用車道  \n",
      "1                    54300             54300   00000000010000000000  \n",
      "2                      108               108   00000000010000000000  \n",
      "3                    35900             35900   00000000010000000000  \n",
      "4                    25650             25400   00000000010000000000  \n",
      "...                    ...               ...                    ...  \n",
      "172217               27300             24700   01100000000000000000  \n",
      "172218              355000            355300   11000000000000000000  \n",
      "172219                  61               478   10010000010000000000  \n",
      "172220               45000             46000   11100000000000000000  \n",
      "172221              358300            359300   01000000000000000000  \n",
      "\n",
      "[172222 rows x 9 columns]\n"
     ]
    }
   ],
   "source": [
    "df_TA=pd.read_excel('TrafficAccident112.xlsx')\n",
    "df_RW=pd.read_excel('RoadWork112.xlsx')\n",
    "print(df_TA)\n",
    "print(df_RW)"
   ]
  },
  {
   "cell_type": "code",
   "execution_count": 6,
   "id": "dfb1b256-16aa-4990-a6ea-902ac48c89e3",
   "metadata": {},
   "outputs": [
    {
     "ename": "KeyError",
     "evalue": "'占用車道'",
     "output_type": "error",
     "traceback": [
      "\u001b[1;31m---------------------------------------------------------------------------\u001b[0m",
      "\u001b[1;31mKeyError\u001b[0m                                  Traceback (most recent call last)",
      "File \u001b[1;32m~\\anaconda3\\Lib\\site-packages\\pandas\\core\\indexes\\base.py:3791\u001b[0m, in \u001b[0;36mIndex.get_loc\u001b[1;34m(self, key)\u001b[0m\n\u001b[0;32m   3790\u001b[0m \u001b[38;5;28;01mtry\u001b[39;00m:\n\u001b[1;32m-> 3791\u001b[0m     \u001b[38;5;28;01mreturn\u001b[39;00m \u001b[38;5;28mself\u001b[39m\u001b[38;5;241m.\u001b[39m_engine\u001b[38;5;241m.\u001b[39mget_loc(casted_key)\n\u001b[0;32m   3792\u001b[0m \u001b[38;5;28;01mexcept\u001b[39;00m \u001b[38;5;167;01mKeyError\u001b[39;00m \u001b[38;5;28;01mas\u001b[39;00m err:\n",
      "File \u001b[1;32mindex.pyx:152\u001b[0m, in \u001b[0;36mpandas._libs.index.IndexEngine.get_loc\u001b[1;34m()\u001b[0m\n",
      "File \u001b[1;32mindex.pyx:181\u001b[0m, in \u001b[0;36mpandas._libs.index.IndexEngine.get_loc\u001b[1;34m()\u001b[0m\n",
      "File \u001b[1;32mpandas\\_libs\\hashtable_class_helper.pxi:7080\u001b[0m, in \u001b[0;36mpandas._libs.hashtable.PyObjectHashTable.get_item\u001b[1;34m()\u001b[0m\n",
      "File \u001b[1;32mpandas\\_libs\\hashtable_class_helper.pxi:7088\u001b[0m, in \u001b[0;36mpandas._libs.hashtable.PyObjectHashTable.get_item\u001b[1;34m()\u001b[0m\n",
      "\u001b[1;31mKeyError\u001b[0m: '占用車道'",
      "\nThe above exception was the direct cause of the following exception:\n",
      "\u001b[1;31mKeyError\u001b[0m                                  Traceback (most recent call last)",
      "Cell \u001b[1;32mIn[6], line 1\u001b[0m\n\u001b[1;32m----> 1\u001b[0m \u001b[38;5;28mprint\u001b[39m(df_RW[\u001b[38;5;124m'\u001b[39m\u001b[38;5;124m占用車道\u001b[39m\u001b[38;5;124m'\u001b[39m])\n",
      "File \u001b[1;32m~\\anaconda3\\Lib\\site-packages\\pandas\\core\\frame.py:3893\u001b[0m, in \u001b[0;36mDataFrame.__getitem__\u001b[1;34m(self, key)\u001b[0m\n\u001b[0;32m   3891\u001b[0m \u001b[38;5;28;01mif\u001b[39;00m \u001b[38;5;28mself\u001b[39m\u001b[38;5;241m.\u001b[39mcolumns\u001b[38;5;241m.\u001b[39mnlevels \u001b[38;5;241m>\u001b[39m \u001b[38;5;241m1\u001b[39m:\n\u001b[0;32m   3892\u001b[0m     \u001b[38;5;28;01mreturn\u001b[39;00m \u001b[38;5;28mself\u001b[39m\u001b[38;5;241m.\u001b[39m_getitem_multilevel(key)\n\u001b[1;32m-> 3893\u001b[0m indexer \u001b[38;5;241m=\u001b[39m \u001b[38;5;28mself\u001b[39m\u001b[38;5;241m.\u001b[39mcolumns\u001b[38;5;241m.\u001b[39mget_loc(key)\n\u001b[0;32m   3894\u001b[0m \u001b[38;5;28;01mif\u001b[39;00m is_integer(indexer):\n\u001b[0;32m   3895\u001b[0m     indexer \u001b[38;5;241m=\u001b[39m [indexer]\n",
      "File \u001b[1;32m~\\anaconda3\\Lib\\site-packages\\pandas\\core\\indexes\\base.py:3798\u001b[0m, in \u001b[0;36mIndex.get_loc\u001b[1;34m(self, key)\u001b[0m\n\u001b[0;32m   3793\u001b[0m     \u001b[38;5;28;01mif\u001b[39;00m \u001b[38;5;28misinstance\u001b[39m(casted_key, \u001b[38;5;28mslice\u001b[39m) \u001b[38;5;129;01mor\u001b[39;00m (\n\u001b[0;32m   3794\u001b[0m         \u001b[38;5;28misinstance\u001b[39m(casted_key, abc\u001b[38;5;241m.\u001b[39mIterable)\n\u001b[0;32m   3795\u001b[0m         \u001b[38;5;129;01mand\u001b[39;00m \u001b[38;5;28many\u001b[39m(\u001b[38;5;28misinstance\u001b[39m(x, \u001b[38;5;28mslice\u001b[39m) \u001b[38;5;28;01mfor\u001b[39;00m x \u001b[38;5;129;01min\u001b[39;00m casted_key)\n\u001b[0;32m   3796\u001b[0m     ):\n\u001b[0;32m   3797\u001b[0m         \u001b[38;5;28;01mraise\u001b[39;00m InvalidIndexError(key)\n\u001b[1;32m-> 3798\u001b[0m     \u001b[38;5;28;01mraise\u001b[39;00m \u001b[38;5;167;01mKeyError\u001b[39;00m(key) \u001b[38;5;28;01mfrom\u001b[39;00m \u001b[38;5;21;01merr\u001b[39;00m\n\u001b[0;32m   3799\u001b[0m \u001b[38;5;28;01mexcept\u001b[39;00m \u001b[38;5;167;01mTypeError\u001b[39;00m:\n\u001b[0;32m   3800\u001b[0m     \u001b[38;5;66;03m# If we have a listlike key, _check_indexing_error will raise\u001b[39;00m\n\u001b[0;32m   3801\u001b[0m     \u001b[38;5;66;03m#  InvalidIndexError. Otherwise we fall through and re-raise\u001b[39;00m\n\u001b[0;32m   3802\u001b[0m     \u001b[38;5;66;03m#  the TypeError.\u001b[39;00m\n\u001b[0;32m   3803\u001b[0m     \u001b[38;5;28mself\u001b[39m\u001b[38;5;241m.\u001b[39m_check_indexing_error(key)\n",
      "\u001b[1;31mKeyError\u001b[0m: '占用車道'"
     ]
    }
   ],
   "source": [
    "print(df_RW['incStepBlockagePattern'])"
   ]
  },
  {
   "cell_type": "code",
   "execution_count": null,
   "id": "93bba219-726b-400c-9afb-e61cf6521dee",
   "metadata": {},
   "outputs": [],
   "source": []
  }
 ],
 "metadata": {
  "kernelspec": {
   "display_name": "Python 3 (ipykernel)",
   "language": "python",
   "name": "python3"
  },
  "language_info": {
   "codemirror_mode": {
    "name": "ipython",
    "version": 3
   },
   "file_extension": ".py",
   "mimetype": "text/x-python",
   "name": "python",
   "nbconvert_exporter": "python",
   "pygments_lexer": "ipython3",
   "version": "3.11.5"
  }
 },
 "nbformat": 4,
 "nbformat_minor": 5
}
